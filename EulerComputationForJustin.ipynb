{
 "cells": [
  {
   "cell_type": "code",
   "execution_count": null,
   "id": "94cb52a1",
   "metadata": {},
   "outputs": [],
   "source": [
    "import os, glob\n",
    "import argparse\n",
    "\n",
    "import numpy as np\n",
    "import tensorflow as tf\n",
    "\n",
    "import sys\n",
    "sys.path.append(\"../..\")\n",
    "from models import ProjectiveSpace"
   ]
  },
  {
   "cell_type": "code",
   "execution_count": null,
   "id": "0c1baad3",
   "metadata": {},
   "outputs": [],
   "source": [
    "dirname = './QuinticData'\n",
    "args = 'val'\n",
    "data = np.load(os.path.join(dirname, 'dataset.npz'))\n",
    "x_vars = tf.cast(tf.constant(data[f\"X_{args}\"]), tf.float32)\n",
    "weights, omegas = data[f'y_{args}'][:,-2], data[f'y_{args}'][:,-1]"
   ]
  },
  {
   "cell_type": "code",
   "execution_count": null,
   "id": "dbb140f4",
   "metadata": {},
   "outputs": [],
   "source": [
    "path_to_riems = 'riemvalues'\n",
    "\n",
    "riem = None\n",
    "files = sorted(glob.glob(\n",
    "    os.path.join(path_to_riems, \"*.npy\")),\n",
    "    key = lambda x: int(os.path.basename(x).split('.')[0][4:]))\n",
    "for riemfile in files:\n",
    "    if riem is None:\n",
    "        riem = np.load(riemfile)\n",
    "    else:\n",
    "        riem = np.append(riem, np.load(riemfile), axis=0)"
   ]
  },
  {
   "cell_type": "code",
   "execution_count": null,
   "id": "d7e899ab",
   "metadata": {},
   "outputs": [],
   "source": [
    "c3 = ProjectiveSpace.getC3(tf.cast(riem, tf.complex128))\n",
    "c3_top = ProjectiveSpace.getTopNumber(c3)"
   ]
  },
  {
   "cell_type": "code",
   "execution_count": null,
   "id": "8c38dcd2",
   "metadata": {},
   "outputs": [],
   "source": [
    "norm_factor = (-2*1j)**3 / np.math.factorial(3)\n",
    "print(f\"Int_X c3 = {np.real(norm_factor * np.mean(weights * c3_top / omegas))}\")"
   ]
  },
  {
   "cell_type": "code",
   "execution_count": null,
   "id": "5a7a5294",
   "metadata": {},
   "outputs": [],
   "source": [
    "eud=np.real(norm_factor * weights * c3_top / omegas)\n",
    "np.savetxt('eulerd',eud)\n",
    "print(np.mean(eud))"
   ]
  },
  {
   "cell_type": "code",
   "execution_count": null,
   "id": "6dc252ea",
   "metadata": {},
   "outputs": [],
   "source": [
    "path_to_riems = 'riemvaluesfs'\n",
    "\n",
    "riem = None\n",
    "files = sorted(glob.glob(\n",
    "    os.path.join(path_to_riems, \"*.npy\")),\n",
    "    key = lambda x: int(os.path.basename(x).split('.')[0][4:]))\n",
    "for riemfile in files:\n",
    "    if riem is None:\n",
    "        riem = np.load(riemfile)\n",
    "    else:\n",
    "        riem = np.append(riem, np.load(riemfile), axis=0)"
   ]
  },
  {
   "cell_type": "code",
   "execution_count": null,
   "id": "de532b13",
   "metadata": {},
   "outputs": [],
   "source": [
    "c3 = ProjectiveSpace.getC3(tf.cast(riem, tf.complex128))\n",
    "c3_top = ProjectiveSpace.getTopNumber(c3)"
   ]
  },
  {
   "cell_type": "code",
   "execution_count": null,
   "id": "283acd77",
   "metadata": {},
   "outputs": [],
   "source": [
    "norm_factor = (-2*1j)**3 / np.math.factorial(3)\n",
    "print(f\"Int_X c3 = {np.real(norm_factor * np.mean(weights * c3_top / omegas))}\")"
   ]
  },
  {
   "cell_type": "code",
   "execution_count": null,
   "id": "f1c498c1",
   "metadata": {},
   "outputs": [],
   "source": [
    "eudfs=np.real(norm_factor * weights * c3_top / omegas)\n",
    "np.savetxt('eulerdfs',eudfs)\n",
    "print(np.mean(eudfs))"
   ]
  }
 ],
 "metadata": {
  "kernelspec": {
   "display_name": "Python 3",
   "language": "python",
   "name": "python3"
  },
  "language_info": {
   "codemirror_mode": {
    "name": "ipython",
    "version": 3
   },
   "file_extension": ".py",
   "mimetype": "text/x-python",
   "name": "python",
   "nbconvert_exporter": "python",
   "pygments_lexer": "ipython3",
   "version": "3.8.10"
  }
 },
 "nbformat": 4,
 "nbformat_minor": 5
}
