{
 "cells": [
  {
   "cell_type": "code",
   "execution_count": 1,
   "id": "37289806",
   "metadata": {},
   "outputs": [],
   "source": [
    "import time\n",
    "\n",
    "import os, glob\n",
    "import argparse\n",
    "\n",
    "import numpy as np\n",
    "import tensorflow as tf\n",
    "\n",
    "from cymetric.models.tfmodels import PhiFSModel\n",
    "from cymetric.models.tfhelper import prepare_tf_basis\n",
    "\n",
    "import sys\n",
    "sys.path.append(\"../..\")\n",
    "from models import ProjectiveSpace"
   ]
  },
  {
   "cell_type": "code",
   "execution_count": 2,
   "id": "0febd4e5",
   "metadata": {},
   "outputs": [
    {
     "name": "stdout",
     "output_type": "stream",
     "text": [
      "WARNING:tensorflow:No training configuration found in save file, so the model was *not* compiled. Compile it manually.\n"
     ]
    }
   ],
   "source": [
    "dirname = './QuinticData'#args.dir_name\n",
    "mode = 'val'#args.mode\n",
    "\n",
    "data = np.load(os.path.join(dirname, 'dataset.npz'))\n",
    "BASIS = np.load(os.path.join(dirname, 'basis.pickle'), allow_pickle=True)\n",
    "BASIS = prepare_tf_basis(BASIS)\n",
    "\n",
    "    # Set up NN\n",
    "nn_phi = tf.keras.models.load_model('QuinticModel')\n",
    "pfs_model = PhiFSModel(nn_phi, BASIS)\n",
    "\n",
    "    # Load variables\n",
    "x_vars = tf.cast(tf.constant(data[f\"X_{mode}\"]), tf.float32)\n",
    "weights, omegas = data[f'y_{mode}'][:,-2], data[f'y_{mode}'][:,-1]\n",
    "\n",
    "#print(f\"Loaded total of {x_vars.shape[0]} points.\")\n",
    "\n",
    "#print(np.mean(weights * np.linalg.det(pfs_model(x_vars, training=False))/ omegas))"
   ]
  },
  {
   "cell_type": "code",
   "execution_count": 3,
   "id": "49934740",
   "metadata": {},
   "outputs": [],
   "source": [
    "batch_size = 500 #args.batch_size\n",
    "rem_pts = x_vars.shape[0] % batch_size\n",
    "num_partitions = ((x_vars.shape[0] - rem_pts) // batch_size) + (1 if rem_pts > 0 else 0)"
   ]
  },
  {
   "cell_type": "code",
   "execution_count": null,
   "id": "7a7a5152",
   "metadata": {},
   "outputs": [
    {
     "name": "stdout",
     "output_type": "stream",
     "text": [
      "Generating 3500:4000 in 8/200\n",
      "WARNING:tensorflow:Using a while_loop for converting ScatterNd\n",
      "WARNING:tensorflow:Using a while_loop for converting ScatterNd\n",
      "WARNING:tensorflow:Using a while_loop for converting ScatterNd\n",
      "WARNING:tensorflow:Using a while_loop for converting ScatterNd\n"
     ]
    }
   ],
   "source": [
    "path_to_output = 'riemvalues'\n",
    "ametric = 'pred'\n",
    "\n",
    "continue_from = 0\n",
    "if len(glob.glob(os.path.join(path_to_output, \"*.npy\"))) > 0:\n",
    "    continue_from = max(\n",
    "        map(lambda x: int(os.path.basename(x).split('.')[0][4:]),\n",
    "            glob.glob(\n",
    "                os.path.join(path_to_output, \"*.npy\")))) + 1\n",
    "#for i in range(continue_from, num_partitions):\n",
    "i = continue_from\n",
    "if i < num_partitions:\n",
    "    a = batch_size*i\n",
    "    b = min(batch_size*(i+1), x_vars.shape[0])\n",
    "\n",
    "    start_time = time.time()\n",
    "\n",
    "    print(f\"Generating {a}:{b} in {i+1}/{num_partitions}\")\n",
    "    riem = ProjectiveSpace.getRiemannPB(\n",
    "        x_vars[a:b], pfs_model.fubini_study_pb if ametric == \"fs\" else lambda x: pfs_model(x, training=False),\n",
    "        pfs_model.pullbacks, 5)\n",
    "    np.save(os.path.join(path_to_output, f\"riem{i}\"), riem)\n",
    " \n",
    "    end_time = time.time()\n",
    "    print(\"Took: {:.02f}\".format(end_time - start_time))\n",
    "    print()\n"
   ]
  },
  {
   "cell_type": "code",
   "execution_count": null,
   "id": "cf4ed5e9",
   "metadata": {},
   "outputs": [],
   "source": []
  },
  {
   "cell_type": "code",
   "execution_count": null,
   "id": "937babef",
   "metadata": {},
   "outputs": [],
   "source": []
  }
 ],
 "metadata": {
  "kernelspec": {
   "display_name": "Python [conda env:cymetric] *",
   "language": "python",
   "name": "conda-env-cymetric-py"
  },
  "language_info": {
   "codemirror_mode": {
    "name": "ipython",
    "version": 3
   },
   "file_extension": ".py",
   "mimetype": "text/x-python",
   "name": "python",
   "nbconvert_exporter": "python",
   "pygments_lexer": "ipython3",
   "version": "3.9.13"
  }
 },
 "nbformat": 4,
 "nbformat_minor": 5
}
