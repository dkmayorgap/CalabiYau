{
 "cells": [
  {
   "cell_type": "code",
   "execution_count": 1,
   "id": "6443c85f",
   "metadata": {},
   "outputs": [],
   "source": [
    "import time\n",
    "\n",
    "import os, glob\n",
    "import argparse\n",
    "\n",
    "import numpy as np\n",
    "import tensorflow as tf\n",
    "\n",
    "from cymetric.models.tfmodels import PhiFSModel\n",
    "from cymetric.models.tfhelper import prepare_tf_basis\n",
    "\n",
    "import sys\n",
    "sys.path.append(\"../..\")\n",
    "from models import ProjectiveSpace"
   ]
  },
  {
   "cell_type": "code",
   "execution_count": null,
   "id": "674584d4",
   "metadata": {},
   "outputs": [],
   "source": [
    "dirname = './QuinticData'\n",
    "mode = 'val'\n",
    "\n",
    "data = np.load(os.path.join(dirname, 'dataset.npz'))\n",
    "BASIS = np.load(os.path.join(dirname, 'basis.pickle'), allow_pickle=True)\n",
    "BASIS = prepare_tf_basis(BASIS)\n",
    "\n",
    "    # Set up NN\n",
    "#nn_phi = tf.keras.models.load_model('QuinticModel')\n",
    "#pfs_model = PhiFSModel(nn_phi, BASIS)\n",
    "\n",
    "    # Load variables\n",
    "#x_vars = tf.cast(tf.constant(data[f\"X_{mode}\"]), tf.float32)\n",
    "#weights, omegas = data[f'y_{mode}'][:,-2], data[f'y_{mode}'][:,-1]\n",
    "\n",
    "#print(f\"Loaded total of {x_vars.shape[0]} points.\")\n",
    "\n",
    "#print(np.mean(weights * np.linalg.det(pfs_model(x_vars, training=False))/ omegas))"
   ]
  },
  {
   "cell_type": "code",
   "execution_count": null,
   "id": "a0648ba8",
   "metadata": {},
   "outputs": [],
   "source": [
    "data['X_val']"
   ]
  },
  {
   "cell_type": "code",
   "execution_count": null,
   "id": "78981f99",
   "metadata": {},
   "outputs": [],
   "source": [
    "work_dir = \"./QuinticData\"\n",
    "tf.get_logger().setLevel('ERROR')\n",
    "data = np.load(os.path.join(work_dir, 'dataset.npz'))\n",
    "BASIS = np.load(os.path.join(work_dir, 'basis.pickle'), allow_pickle=True)\n",
    "BASIS = prepare_tf_basis(BASIS)\n",
    "\n",
    "# Load model\n",
    "model = tf.keras.models.load_model(\"QuinticModel\")\n",
    "#alpha       = [float(1.), float(1.), float(1.), float(1.), float(1.)]\n",
    "pfs_model = PhiFSModel(model, BASIS)#, alpha=alpha)\n",
    "\n",
    "x_vars = tf.cast(tf.constant(data[\"X_train\"]), tf.float32)\n",
    "weights, omegas = data['y_train'][:,-2], data['y_train'][:,-1]\n",
    "\n",
    "print(np.mean(weights * np.linalg.det(pfs_model(x_vars))/ omegas))"
   ]
  },
  {
   "cell_type": "code",
   "execution_count": null,
   "id": "e65bb0d6",
   "metadata": {},
   "outputs": [],
   "source": []
  }
 ],
 "metadata": {
  "kernelspec": {
   "display_name": "Python [conda env:cymetric] *",
   "language": "python",
   "name": "conda-env-cymetric-py"
  },
  "language_info": {
   "codemirror_mode": {
    "name": "ipython",
    "version": 3
   },
   "file_extension": ".py",
   "mimetype": "text/x-python",
   "name": "python",
   "nbconvert_exporter": "python",
   "pygments_lexer": "ipython3",
   "version": "3.9.13"
  }
 },
 "nbformat": 4,
 "nbformat_minor": 5
}
