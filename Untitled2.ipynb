{
 "cells": [
  {
   "cell_type": "code",
   "execution_count": 3,
   "id": "1b4bb1fb",
   "metadata": {},
   "outputs": [],
   "source": [
    "import os\n",
    "import json\n",
    "import argparse\n",
    "\n",
    "import numpy as np\n",
    "import tensorflow as tf\n",
    "tfk = tf.keras\n",
    "\n",
    "from cymetric.models.tfhelper import prepare_tf_basis, train_model\n",
    "from cymetric.models.tfmodels import PhiFSModel\n",
    "from cymetric.models.callbacks import RicciCallback, SigmaCallback, VolkCallback, KaehlerCallback, TransitionCallback\n",
    "from cymetric.models.metrics import SigmaLoss, KaehlerLoss, TransitionLoss, VolkLoss, RicciLoss, TotalLoss\n"
   ]
  },
  {
   "cell_type": "code",
   "execution_count": 4,
   "id": "ca54ca65",
   "metadata": {},
   "outputs": [],
   "source": [
    "import sys\n",
    "sys.path.append(\"../..\")\n",
    "from models import ProjectiveSpace"
   ]
  },
  {
   "cell_type": "code",
   "execution_count": null,
   "id": "866b401f",
   "metadata": {},
   "outputs": [],
   "source": []
  }
 ],
 "metadata": {
  "kernelspec": {
   "display_name": "Python [conda env:cymetric] *",
   "language": "python",
   "name": "conda-env-cymetric-py"
  },
  "language_info": {
   "codemirror_mode": {
    "name": "ipython",
    "version": 3
   },
   "file_extension": ".py",
   "mimetype": "text/x-python",
   "name": "python",
   "nbconvert_exporter": "python",
   "pygments_lexer": "ipython3",
   "version": "3.9.13"
  }
 },
 "nbformat": 4,
 "nbformat_minor": 5
}
